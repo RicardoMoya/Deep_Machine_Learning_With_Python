{
 "cells": [
  {
   "cell_type": "markdown",
   "metadata": {},
   "source": [
    "# 2.2 - Evaluacion de Modelos de Regresion\n",
    "\n",
    "\n",
    "\n",
    "* Para los problemas de regresión la ***medida de calidad*** utilizada es el ***“accuracy”*** y aunque existen varias medidas de accuracy, las más empleadas son las siguientes:\n",
    "<span></span><br><br>\n",
    "    - ***MAE***: Mean Absolute Error (Error Absoluto Medio)\n",
    "<span></span><br><br>\n",
    "    - ***MSE***: Mean Squared Error (Error Cuadrático Medio)\n",
    "<span></span><br><br>\n",
    "    - ***Median Absolute error***. Este último es menos utilizado\n",
    "\n",
    "\n",
    "<hr>\n",
    "\n",
    "\n",
    "* Veamos a continuación como se calculan esta métricas de calidad y como Scikit las obtiene\n",
    "\n",
    "\n",
    "* Para ello vamos a utilizar los siguientes resultados siendo:\n",
    "<span></span><br>\n",
    "    - ***y_true***: Resultado real\n",
    "<span></span><br>\n",
    "    - ***y_predict***: Resultado devuelto por el modelo"
   ]
  },
  {
   "cell_type": "code",
   "execution_count": 1,
   "metadata": {},
   "outputs": [],
   "source": [
    "y_true = [1, 2, 3]\n",
    "\n",
    "y_predict = [0.5, 1, 1.5]"
   ]
  },
  {
   "cell_type": "markdown",
   "metadata": {},
   "source": [
    "<hr>\n",
    "\n",
    "\n",
    "## MAE: Mean Absolute Error\n",
    "\n",
    "\n",
    "* Se define como:\n",
    "\n",
    "    <span style=\"font-size:16px\">$MAE = \\frac{1}{n} \\sum_{N}^{i=1} \\left |  y_i-x_i\\right |$<span>\n",
    "    \n",
    "    \n",
    "* En Scikit lo calcula la función **\"mean_absolute_error(y_true, y_predict)\"**:"
   ]
  },
  {
   "cell_type": "code",
   "execution_count": 2,
   "metadata": {},
   "outputs": [
    {
     "data": {
      "text/plain": [
       "1.0"
      ]
     },
     "execution_count": 2,
     "metadata": {},
     "output_type": "execute_result"
    }
   ],
   "source": [
    "from sklearn.metrics import mean_absolute_error\n",
    "\n",
    "mean_absolute_error(y_true=y_true, y_pred=y_predict)"
   ]
  },
  {
   "cell_type": "markdown",
   "metadata": {},
   "source": [
    "* Veamos como calcularlo:\n",
    "\n",
    "    <span style=\"font-size:18px\">$\\frac{\\left | 1-0.5 \\right | + \\left | 2-1 \\right | + \\left | 3-1.5 \\right |}{3} = 1$<span>"
   ]
  },
  {
   "cell_type": "markdown",
   "metadata": {},
   "source": [
    "<hr>\n",
    "\n",
    "\n",
    "## MSE: Mean Squared Error\n",
    "\n",
    "\n",
    "* Se define como:\n",
    "\n",
    "    <span style=\"font-size:16px\">$MSE = \\frac{1}{n} \\sum_{N}^{i=1} (y_i-x_i)^2$<span>\n",
    "    \n",
    "    \n",
    "* En Scikit lo calcula la función **\"mean_squared_error(y_true, y_predict)\"**:"
   ]
  },
  {
   "cell_type": "code",
   "execution_count": 3,
   "metadata": {},
   "outputs": [
    {
     "data": {
      "text/plain": [
       "1.1666666666666667"
      ]
     },
     "execution_count": 3,
     "metadata": {},
     "output_type": "execute_result"
    }
   ],
   "source": [
    "from sklearn.metrics import mean_squared_error\n",
    "\n",
    "mean_squared_error(y_true=y_true, y_pred=y_predict)"
   ]
  },
  {
   "cell_type": "markdown",
   "metadata": {},
   "source": [
    "* Veamos como calcularlo:\n",
    "\n",
    "    <span style=\"font-size:18px\">$\\frac{(1-0.5)^2 + (2-1)^2 + (3-1.5)^2}{3} = 1.17$<span>"
   ]
  },
  {
   "cell_type": "markdown",
   "metadata": {},
   "source": [
    "<hr>\n",
    "\n",
    "\n",
    "## Median Absolute error\n",
    "\n",
    "\n",
    "* Se define como:\n",
    "\n",
    "    <span style=\"font-size:16px\">$\\sum_{N}^{i=1}f_i \\geq \\frac{n+1}{2} $<span>\n",
    "    \n",
    "    \n",
    "* En Scikit lo calcula la función **\"median_absolute_error(y_true, y_predict)\"**:"
   ]
  },
  {
   "cell_type": "code",
   "execution_count": 4,
   "metadata": {},
   "outputs": [
    {
     "data": {
      "text/plain": [
       "1.0"
      ]
     },
     "execution_count": 4,
     "metadata": {},
     "output_type": "execute_result"
    }
   ],
   "source": [
    "from sklearn.metrics import median_absolute_error\n",
    "\n",
    "median_absolute_error(y_true=y_true, y_pred=y_predict)"
   ]
  },
  {
   "cell_type": "markdown",
   "metadata": {},
   "source": [
    "* Veamos como calcularlo:\n",
    "\n",
    "    <span style=\"font-size:18px\">$Mediana[0.5,1,1.5]=1$<span>"
   ]
  },
  {
   "cell_type": "markdown",
   "metadata": {},
   "source": [
    "<hr>\n",
    "\n",
    "\n",
    "Este Notebook ha sido desarrollado por **Ricardo Moya García** y registrado en Safe Creative como ***Atribución-NoComercial-CompartirIgual***.\n",
    "\n",
    "\n",
    "<img src=\"../imgs/CC_BY-NC-SA.png\" alt=\"CC BY-NC\">"
   ]
  }
 ],
 "metadata": {
  "kernelspec": {
   "display_name": "Python 3",
   "language": "python",
   "name": "python3"
  },
  "language_info": {
   "codemirror_mode": {
    "name": "ipython",
    "version": 3
   },
   "file_extension": ".py",
   "mimetype": "text/x-python",
   "name": "python",
   "nbconvert_exporter": "python",
   "pygments_lexer": "ipython3",
   "version": "3.6.10"
  }
 },
 "nbformat": 4,
 "nbformat_minor": 2
}
