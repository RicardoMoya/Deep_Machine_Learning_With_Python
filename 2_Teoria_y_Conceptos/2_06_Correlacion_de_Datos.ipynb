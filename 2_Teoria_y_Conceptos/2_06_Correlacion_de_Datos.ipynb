{
 "cells": [
  {
   "cell_type": "markdown",
   "metadata": {},
   "source": [
    "# 2.6 - Correlación de Datos\n",
    "\n",
    "\n",
    "* En este Notebook vamos a ver como obtener los ***valores de correlación entre variables***.\n",
    "\n",
    "\n",
    "* Dadas dos variables de un Dataset $(a_1,b_1), (a_2,b_2), ..., (a_n,b_n)$ se define el coeficiente de correlación lineal entre A y B como $r_{ab}$, siendo esta una ***medida de dependencia lineal entre las dos variable A y B.***\n",
    "\n",
    "\n",
    "* La correlación entre dos variables ***puede tomar valores entre [-1,1]*** indicando los valores más cercanos a ***-1 y 1 que las variables tienen una depencia lineal muy alta*** y con valores ***cercanos a 0, una dependencia lineal muy baja***.\n",
    "\n",
    "\n",
    "* El objetivo de ver la correlación entre variables para la resolución de problemas de aprendizaje es el de ***eliminar las variables que estan altamente correladas entre sí*** (o son similares entre sí) con el objetivo de no pasar al Algoritmo de Aprendizaje ***variables que no le sean útiles al modelo generado para discernir o tomar decisiones***.\n",
    "\n",
    "\n",
    "* Con la eliminación de variables muy correladas (si las hubiese) conseguimos reducir el número de variables del Dataset a utilizar por el algoritmo de aprendizaje lo que significa que:\n",
    "    + ***Reduciremos los tiempos de computo*** al tener que trabajar con menos datos\n",
    "    + ***Reduciremos el \"ruido\" en los datos*** ya que dos variables similares entre sí no ayuda a los algoritmos de aprendizaje a aprender y puede generar peores modelos.\n",
    "\n",
    "<hr>\n",
    "\n",
    "\n",
    "* Veamos a continuación un ejemplo de como calcular la correlación entre variables y como eliminar las que estan correladas entre sí:\n",
    "\n",
    "\n",
    "## 1. Cargamos los datos\n",
    "\n",
    "\n",
    "* Vamos a cargar el dataset de calorias.\n",
    "\n",
    "\n",
    "* Para hacer el ejemplo un poco más didáctico, vamos a crearnos una nueva columna llamada 'Peso_gramos' que tendremos el valor de los elementos de la columna 'Peso' en gramos; es decir, el mismo valor multiplicado por 1000:"
   ]
  },
  {
   "cell_type": "code",
   "execution_count": 1,
   "metadata": {},
   "outputs": [
    {
     "data": {
      "text/html": [
       "<div>\n",
       "<style scoped>\n",
       "    .dataframe tbody tr th:only-of-type {\n",
       "        vertical-align: middle;\n",
       "    }\n",
       "\n",
       "    .dataframe tbody tr th {\n",
       "        vertical-align: top;\n",
       "    }\n",
       "\n",
       "    .dataframe thead th {\n",
       "        text-align: right;\n",
       "    }\n",
       "</style>\n",
       "<table border=\"1\" class=\"dataframe\">\n",
       "  <thead>\n",
       "    <tr style=\"text-align: right;\">\n",
       "      <th></th>\n",
       "      <th>Calorias</th>\n",
       "      <th>Tiempo</th>\n",
       "      <th>Peso</th>\n",
       "      <th>Velocidad</th>\n",
       "      <th>Peso_gramos</th>\n",
       "    </tr>\n",
       "  </thead>\n",
       "  <tbody>\n",
       "    <tr>\n",
       "      <th>4412</th>\n",
       "      <td>1174.4</td>\n",
       "      <td>62.3</td>\n",
       "      <td>79.3</td>\n",
       "      <td>13.8</td>\n",
       "      <td>79300.0</td>\n",
       "    </tr>\n",
       "    <tr>\n",
       "      <th>4852</th>\n",
       "      <td>910.9</td>\n",
       "      <td>56.4</td>\n",
       "      <td>69.6</td>\n",
       "      <td>13.4</td>\n",
       "      <td>69600.0</td>\n",
       "    </tr>\n",
       "    <tr>\n",
       "      <th>3928</th>\n",
       "      <td>1046.4</td>\n",
       "      <td>53.5</td>\n",
       "      <td>83.9</td>\n",
       "      <td>13.5</td>\n",
       "      <td>83900.0</td>\n",
       "    </tr>\n",
       "    <tr>\n",
       "      <th>3575</th>\n",
       "      <td>1025.1</td>\n",
       "      <td>50.1</td>\n",
       "      <td>77.4</td>\n",
       "      <td>15.3</td>\n",
       "      <td>77400.0</td>\n",
       "    </tr>\n",
       "    <tr>\n",
       "      <th>506</th>\n",
       "      <td>743.8</td>\n",
       "      <td>68.1</td>\n",
       "      <td>60.8</td>\n",
       "      <td>10.4</td>\n",
       "      <td>60800.0</td>\n",
       "    </tr>\n",
       "  </tbody>\n",
       "</table>\n",
       "</div>"
      ],
      "text/plain": [
       "      Calorias  Tiempo  Peso  Velocidad  Peso_gramos\n",
       "4412    1174.4    62.3  79.3       13.8      79300.0\n",
       "4852     910.9    56.4  69.6       13.4      69600.0\n",
       "3928    1046.4    53.5  83.9       13.5      83900.0\n",
       "3575    1025.1    50.1  77.4       15.3      77400.0\n",
       "506      743.8    68.1  60.8       10.4      60800.0"
      ]
     },
     "execution_count": 1,
     "metadata": {},
     "output_type": "execute_result"
    }
   ],
   "source": [
    "import pandas as pd\n",
    "import numpy as np\n",
    "\n",
    "df = pd.read_csv(\"./data/calorias_running/calories_time_weight_speed.csv\")\n",
    "df['Peso_gramos'] = df['Peso'].apply(lambda x: x * 1000)\n",
    "df.sample(5)"
   ]
  },
  {
   "cell_type": "markdown",
   "metadata": {},
   "source": [
    "<hr>\n",
    "\n",
    "\n",
    "## 2. Correlación entre variables\n",
    "\n",
    "* Con la funcion de pandas ***.corr()***, nos devuelve la matriz de correlaciones entre cada par de variables:"
   ]
  },
  {
   "cell_type": "code",
   "execution_count": 2,
   "metadata": {},
   "outputs": [
    {
     "data": {
      "text/html": [
       "<div>\n",
       "<style scoped>\n",
       "    .dataframe tbody tr th:only-of-type {\n",
       "        vertical-align: middle;\n",
       "    }\n",
       "\n",
       "    .dataframe tbody tr th {\n",
       "        vertical-align: top;\n",
       "    }\n",
       "\n",
       "    .dataframe thead th {\n",
       "        text-align: right;\n",
       "    }\n",
       "</style>\n",
       "<table border=\"1\" class=\"dataframe\">\n",
       "  <thead>\n",
       "    <tr style=\"text-align: right;\">\n",
       "      <th></th>\n",
       "      <th>Calorias</th>\n",
       "      <th>Tiempo</th>\n",
       "      <th>Peso</th>\n",
       "      <th>Velocidad</th>\n",
       "      <th>Peso_gramos</th>\n",
       "    </tr>\n",
       "  </thead>\n",
       "  <tbody>\n",
       "    <tr>\n",
       "      <th>Calorias</th>\n",
       "      <td>1.000000</td>\n",
       "      <td>0.892129</td>\n",
       "      <td>0.263631</td>\n",
       "      <td>0.008829</td>\n",
       "      <td>0.263631</td>\n",
       "    </tr>\n",
       "    <tr>\n",
       "      <th>Tiempo</th>\n",
       "      <td>0.892129</td>\n",
       "      <td>1.000000</td>\n",
       "      <td>-0.006131</td>\n",
       "      <td>-0.297225</td>\n",
       "      <td>-0.006131</td>\n",
       "    </tr>\n",
       "    <tr>\n",
       "      <th>Peso</th>\n",
       "      <td>0.263631</td>\n",
       "      <td>-0.006131</td>\n",
       "      <td>1.000000</td>\n",
       "      <td>-0.017812</td>\n",
       "      <td>1.000000</td>\n",
       "    </tr>\n",
       "    <tr>\n",
       "      <th>Velocidad</th>\n",
       "      <td>0.008829</td>\n",
       "      <td>-0.297225</td>\n",
       "      <td>-0.017812</td>\n",
       "      <td>1.000000</td>\n",
       "      <td>-0.017812</td>\n",
       "    </tr>\n",
       "    <tr>\n",
       "      <th>Peso_gramos</th>\n",
       "      <td>0.263631</td>\n",
       "      <td>-0.006131</td>\n",
       "      <td>1.000000</td>\n",
       "      <td>-0.017812</td>\n",
       "      <td>1.000000</td>\n",
       "    </tr>\n",
       "  </tbody>\n",
       "</table>\n",
       "</div>"
      ],
      "text/plain": [
       "             Calorias    Tiempo      Peso  Velocidad  Peso_gramos\n",
       "Calorias     1.000000  0.892129  0.263631   0.008829     0.263631\n",
       "Tiempo       0.892129  1.000000 -0.006131  -0.297225    -0.006131\n",
       "Peso         0.263631 -0.006131  1.000000  -0.017812     1.000000\n",
       "Velocidad    0.008829 -0.297225 -0.017812   1.000000    -0.017812\n",
       "Peso_gramos  0.263631 -0.006131  1.000000  -0.017812     1.000000"
      ]
     },
     "execution_count": 2,
     "metadata": {},
     "output_type": "execute_result"
    }
   ],
   "source": [
    "df_corr = df.corr()\n",
    "df_corr"
   ]
  },
  {
   "cell_type": "markdown",
   "metadata": {},
   "source": [
    "* Los valores cercanos a 1 y -1 nos indican que son variables muy correladas entre sí y cuanto más cercano sea el valor a 0 nos indican que no están muy correladas.\n",
    "\n",
    "\n",
    "* Como nos interesa saber el grado de correlación, podemos pasar esos valores a su valor absoluto.\n",
    "\n",
    "\n",
    "* De la matriz de correlaciones solo nos interesa la matriz triangular superior o la inferior que es donde tenemos las correlaciones entre cada para de variables.\n",
    "\n",
    "\n",
    "* Para ello vamos a quedarnos con el valor absoluto de la matriz triangular superior para ver las relaciones entre cada par de variables:"
   ]
  },
  {
   "cell_type": "code",
   "execution_count": 3,
   "metadata": {},
   "outputs": [
    {
     "data": {
      "text/html": [
       "<div>\n",
       "<style scoped>\n",
       "    .dataframe tbody tr th:only-of-type {\n",
       "        vertical-align: middle;\n",
       "    }\n",
       "\n",
       "    .dataframe tbody tr th {\n",
       "        vertical-align: top;\n",
       "    }\n",
       "\n",
       "    .dataframe thead th {\n",
       "        text-align: right;\n",
       "    }\n",
       "</style>\n",
       "<table border=\"1\" class=\"dataframe\">\n",
       "  <thead>\n",
       "    <tr style=\"text-align: right;\">\n",
       "      <th></th>\n",
       "      <th>Calorias</th>\n",
       "      <th>Tiempo</th>\n",
       "      <th>Peso</th>\n",
       "      <th>Velocidad</th>\n",
       "      <th>Peso_gramos</th>\n",
       "    </tr>\n",
       "  </thead>\n",
       "  <tbody>\n",
       "    <tr>\n",
       "      <th>Calorias</th>\n",
       "      <td>NaN</td>\n",
       "      <td>0.892129</td>\n",
       "      <td>0.263631</td>\n",
       "      <td>0.008829</td>\n",
       "      <td>0.263631</td>\n",
       "    </tr>\n",
       "    <tr>\n",
       "      <th>Tiempo</th>\n",
       "      <td>NaN</td>\n",
       "      <td>NaN</td>\n",
       "      <td>0.006131</td>\n",
       "      <td>0.297225</td>\n",
       "      <td>0.006131</td>\n",
       "    </tr>\n",
       "    <tr>\n",
       "      <th>Peso</th>\n",
       "      <td>NaN</td>\n",
       "      <td>NaN</td>\n",
       "      <td>NaN</td>\n",
       "      <td>0.017812</td>\n",
       "      <td>1.000000</td>\n",
       "    </tr>\n",
       "    <tr>\n",
       "      <th>Velocidad</th>\n",
       "      <td>NaN</td>\n",
       "      <td>NaN</td>\n",
       "      <td>NaN</td>\n",
       "      <td>NaN</td>\n",
       "      <td>0.017812</td>\n",
       "    </tr>\n",
       "    <tr>\n",
       "      <th>Peso_gramos</th>\n",
       "      <td>NaN</td>\n",
       "      <td>NaN</td>\n",
       "      <td>NaN</td>\n",
       "      <td>NaN</td>\n",
       "      <td>NaN</td>\n",
       "    </tr>\n",
       "  </tbody>\n",
       "</table>\n",
       "</div>"
      ],
      "text/plain": [
       "             Calorias    Tiempo      Peso  Velocidad  Peso_gramos\n",
       "Calorias          NaN  0.892129  0.263631   0.008829     0.263631\n",
       "Tiempo            NaN       NaN  0.006131   0.297225     0.006131\n",
       "Peso              NaN       NaN       NaN   0.017812     1.000000\n",
       "Velocidad         NaN       NaN       NaN        NaN     0.017812\n",
       "Peso_gramos       NaN       NaN       NaN        NaN          NaN"
      ]
     },
     "execution_count": 3,
     "metadata": {},
     "output_type": "execute_result"
    }
   ],
   "source": [
    "df_corr = df.corr().abs()\n",
    "df_upper = df_corr.where(np.triu(np.ones(df_corr.shape), k=1).astype(np.bool))\n",
    "df_upper"
   ]
  },
  {
   "cell_type": "markdown",
   "metadata": {},
   "source": [
    "<hr>\n",
    "\n",
    "\n",
    "## 3. Mapa de calor: Correlación entre variables\n",
    "\n",
    "\n",
    "* El mapa de calor nos va a permitir ver de manera más sencilla la correlación entre variables:"
   ]
  },
  {
   "cell_type": "code",
   "execution_count": 4,
   "metadata": {},
   "outputs": [
    {
     "data": {
      "text/plain": [
       "<matplotlib.axes._subplots.AxesSubplot at 0x1a1c1aa048>"
      ]
     },
     "execution_count": 4,
     "metadata": {},
     "output_type": "execute_result"
    },
    {
     "data": {
      "image/png": "[encoded data removed]",
      "text/plain": [
       "<Figure size 432x288 with 2 Axes>"
      ]
     },
     "metadata": {
      "needs_background": "light"
     },
     "output_type": "display_data"
    }
   ],
   "source": [
    "import matplotlib.pyplot as plt\n",
    "import seaborn as sns\n",
    "%matplotlib inline \n",
    "\n",
    "sns.heatmap(df_upper, annot=True, cmap=\"Greens\")"
   ]
  },
  {
   "cell_type": "markdown",
   "metadata": {},
   "source": [
    "<hr>\n",
    "\n",
    "\n",
    "## 4. Eliminación de variables altamente correladas:\n",
    "\n",
    "\n",
    "* Lo que nos interesa es quedarnos con una variable de las que están correladas entre sí y eliminar el resto, definiendo un umbral (por ejemplo 0.95) y eliminando las variables que tengan una correlación superior a la definida en el umbral.\n",
    "\n",
    "\n",
    "* La manera de eliminar esas variables del Dataset (del DataFrame de Pandas) a partir de un umbral sería la siguiente:\n",
    "\n",
    "    1. Selección de columnas con un valor superior al umbral\n",
    "    2. Eliminación de esas columnas"
   ]
  },
  {
   "cell_type": "code",
   "execution_count": 5,
   "metadata": {},
   "outputs": [
    {
     "name": "stdout",
     "output_type": "stream",
     "text": [
      "Columnas a eliminar: ['Peso_gramos']\n"
     ]
    },
    {
     "data": {
      "text/html": [
       "<div>\n",
       "<style scoped>\n",
       "    .dataframe tbody tr th:only-of-type {\n",
       "        vertical-align: middle;\n",
       "    }\n",
       "\n",
       "    .dataframe tbody tr th {\n",
       "        vertical-align: top;\n",
       "    }\n",
       "\n",
       "    .dataframe thead th {\n",
       "        text-align: right;\n",
       "    }\n",
       "</style>\n",
       "<table border=\"1\" class=\"dataframe\">\n",
       "  <thead>\n",
       "    <tr style=\"text-align: right;\">\n",
       "      <th></th>\n",
       "      <th>Calorias</th>\n",
       "      <th>Tiempo</th>\n",
       "      <th>Peso</th>\n",
       "      <th>Velocidad</th>\n",
       "    </tr>\n",
       "  </thead>\n",
       "  <tbody>\n",
       "    <tr>\n",
       "      <th>4158</th>\n",
       "      <td>638.4</td>\n",
       "      <td>33.0</td>\n",
       "      <td>70.0</td>\n",
       "      <td>16.0</td>\n",
       "    </tr>\n",
       "    <tr>\n",
       "      <th>3242</th>\n",
       "      <td>812.2</td>\n",
       "      <td>58.3</td>\n",
       "      <td>57.2</td>\n",
       "      <td>14.1</td>\n",
       "    </tr>\n",
       "    <tr>\n",
       "      <th>2695</th>\n",
       "      <td>565.3</td>\n",
       "      <td>27.1</td>\n",
       "      <td>78.2</td>\n",
       "      <td>15.4</td>\n",
       "    </tr>\n",
       "    <tr>\n",
       "      <th>4952</th>\n",
       "      <td>813.5</td>\n",
       "      <td>51.0</td>\n",
       "      <td>69.1</td>\n",
       "      <td>13.4</td>\n",
       "    </tr>\n",
       "    <tr>\n",
       "      <th>2537</th>\n",
       "      <td>523.9</td>\n",
       "      <td>21.8</td>\n",
       "      <td>97.1</td>\n",
       "      <td>14.3</td>\n",
       "    </tr>\n",
       "  </tbody>\n",
       "</table>\n",
       "</div>"
      ],
      "text/plain": [
       "      Calorias  Tiempo  Peso  Velocidad\n",
       "4158     638.4    33.0  70.0       16.0\n",
       "3242     812.2    58.3  57.2       14.1\n",
       "2695     565.3    27.1  78.2       15.4\n",
       "4952     813.5    51.0  69.1       13.4\n",
       "2537     523.9    21.8  97.1       14.3"
      ]
     },
     "execution_count": 5,
     "metadata": {},
     "output_type": "execute_result"
    }
   ],
   "source": [
    "umbral = 0.95\n",
    "to_drop = [column for column in df_upper.columns if any(df_upper[column] > umbral)]\n",
    "print(\"Columnas a eliminar: {}\".format(to_drop))\n",
    "df = df.drop(df[to_drop], axis=1)\n",
    "df.sample(5)"
   ]
  },
  {
   "cell_type": "markdown",
   "metadata": {},
   "source": [
    "<hr>\n",
    "\n",
    "\n",
    "Este Notebook ha sido desarrollado por **Ricardo Moya García** y registrado en Safe Creative como ***Atribución-NoComercial-CompartirIgual***.\n",
    "\n",
    "\n",
    "<img src=\"../imgs/CC_BY-NC-SA.png\" alt=\"CC BY-NC\">"
   ]
  }
 ],
 "metadata": {
  "kernelspec": {
   "display_name": "Python 3",
   "language": "python",
   "name": "python3"
  },
  "language_info": {
   "codemirror_mode": {
    "name": "ipython",
    "version": 3
   },
   "file_extension": ".py",
   "mimetype": "text/x-python",
   "name": "python",
   "nbconvert_exporter": "python",
   "pygments_lexer": "ipython3",
   "version": "3.6.10"
  }
 },
 "nbformat": 4,
 "nbformat_minor": 2
}
