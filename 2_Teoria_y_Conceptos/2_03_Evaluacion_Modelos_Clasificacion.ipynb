{
 "cells": [
  {
   "cell_type": "markdown",
   "metadata": {},
   "source": [
    "# 2.3 - Evaluacion de Modelos de Clasificación\n",
    "\n",
    "\n",
    "* Para los problemas de Clasificación se utilizan (entre otros) las siguientes métricas de evaluación:\n",
    "\n",
    "    - ***Accuracy***\n",
    "    - ***Precision***\n",
    "    - ***Recall***\n",
    "    - ***Specificity***\n",
    "    - ***F-score***\n",
    "    - ***Curva ROC***\n",
    "    -  ***ROC_AUC: Área sobre la curva ROC***\n",
    "\n",
    "\n",
    "* Para ver como clasifica el modelo generado usamos la denominada ***“Matriz de Confusión”*** en la cual se muestra el número de elementos que clasifica como verdaderos y falsos positivos y verdaderos y falsos negativos.\n",
    "\n",
    "\n",
    "* Veamos a continuación los detalles de las métricas de evaluación y la matriz de confusión:\n",
    "\n",
    "\n",
    "<hr>\n",
    "\n",
    "\n",
    "## - Matriz de confusión\n",
    "\n",
    "* Cuando hablamos de clasificación tenemos que medir cuanto hemos acertado y como lo hemos acertado, por ello las ***matrices de confusión nos ayudan a ver el acierto o fallo que tiene nuestro modelo a la hora de clasificar***. La matriz de confusión tiene la siguiente forma:\n",
    "\n",
    "    - **True Positive (TP)**: Valores positivos clasificados como positivos\n",
    "    - **True Negative (TN)**: Valores negativos clasificados como negativos\n",
    "    - **False Positive (FP)**: Valores negativos clasificados como positivos\n",
    "    - **False Negative (FN)**: Valore positivos clasificados como negativos\n",
    "    \n",
    "<img src=\"../imgs/2_02_01_eval.png\" style=\"width: 400px;\"/>\n",
    "\n",
    "\n",
    "## - Accuracy\n",
    "\n",
    "* Indica el porcentaje de acierto:\n",
    "\n",
    "$$Acuracy = \\frac{TP + TN}{TP + FN + FP + TN}$$\n",
    "\n",
    "## - Precision\n",
    "\n",
    "* Los positivos correctamente pronosticados entre todos los ejemplos pronosticados como positivos. \n",
    "\n",
    "\n",
    "* \"***De lo que hemos pronosticado, cuanto hemos acertado***\"\n",
    "\n",
    "\n",
    "$$Precision = \\frac{TP}{TP + FP}$$\n",
    "\n",
    "\n",
    "<img src=\"../imgs/2_02_02_eval.png\" style=\"width: 400px;\"/>\n",
    "                                                               \n",
    "                                                               \n",
    "\n",
    "## - Recall\n",
    "\n",
    "\n",
    "* Los positivos correctamente pronosticados, entre todos los ejemplos que son positivos. \n",
    "\n",
    "\n",
    "* \"***De lo que hay en realidad, cuanto hemos acertado***\"\n",
    "\n",
    "\n",
    "* Esta medida también se conoce con el nombre de ***Exhaustividad*** o ***Sensibilidad***.\n",
    "\n",
    "\n",
    "$$Recall = \\frac{TP}{TP + FN} = \\frac{TP}{Positive}$$\n",
    "\n",
    "\n",
    "<img src=\"../imgs/2_02_03_eval.png\" style=\"width: 400px;\"/>\n",
    "\n",
    "\n",
    "## - Specificity\n",
    "\n",
    "\n",
    "* Los negativos correctamente pronosticados, entre todos los ejemplos que son negativos. \n",
    "\n",
    "\n",
    "$$Specificity = \\frac{TN}{TN + FP} = \\frac{TN}{Negative}$$\n",
    "\n",
    "\n",
    "<img src=\"../imgs/2_02_05_eval.png\" style=\"width: 400px;\"/>\n",
    "\n",
    "\n",
    "## - F-Score (Precision-Recall)\n",
    "\n",
    "\n",
    "* Es una media que ***combina la precisión y el recall con la media armonica de ambas medidas***. \n",
    "\n",
    "\n",
    "* Si es cercano a ***1*** significa que la clasificación realizada es buena. \n",
    "\n",
    "\n",
    "* Si es cercano a ***0*** la clasificación realizada es mala.\n",
    "\n",
    "\n",
    "* Se utiliza la media armonica, porque esta penaliza el hecho de que uno de los dos valores(el Precision o el Recall) tenga un valor bajo.\n",
    "\n",
    "\n",
    "* El ***F1*** o ***F-score*** (siendo $score=1$) se calcula de la siguiente manera:\n",
    "\n",
    "\n",
    "$$F1 = 2 \\cdot \\frac{Precision \\cdot Recall}{Precision + Recall}$$\n",
    "\n",
    "\n",
    "* Esta medida en realidad debería de llamarse $F_\\beta$ calculandose de la siguiente manera:\n",
    "\n",
    "$$F_\\beta =  \\frac{(1+\\beta^2) \\cdot Precision \\cdot Recall}{\\beta^2 \\cdot Precision + Recall}$$\n",
    "\n",
    "\n",
    "* En función del valor que le demos a $F_\\beta$ la media armónica dará más importancia a la Precision o al Recall; por ejemplo:\n",
    "\n",
    "    + $F_{0}$: Es el Recall.\n",
    "    + $F_{0.5}$: Da más peso a la Precision que al Recall.\n",
    "    + $F_{1}$: Asigna el mismo peso a la Precision que al Recall.\n",
    "    + $F_{2}$: Da más peso a la Recall que a la Precision.\n",
    "    + $F_{\\infty}$: Es la Precision.\n",
    "    \n",
    "    \n",
    "* ***La medida del F-Score es conocida como la medida F1 porque de esta manera se calcula la media armónica entre la Precision y el Recall otorgando a ambas el mismo peso.***\n",
    "\n",
    "\n",
    "## Curva ROC\n",
    "\n",
    "\n",
    "* La ***curva ROC*** (***R***eceiver ***O***perating ***C***haracteristic) es una gráfica que ***representa la Tasa de Verdaderos Positivos (TPR) en el eje vertical frente a la Tasa de Falsos Positivos (FPR) en el eje horizontal***.\n",
    "\n",
    "    <img src=\"../imgs/2_03_06_eval.png\" style=\"width: 400px;\"/>\n",
    "\n",
    "* Siendo:\n",
    "<br>\n",
    "\n",
    "    + ***TPR***: Recall\n",
    "        $$TPR = Recall = \\frac{TP}{TP + FN} = \\frac{TP}{Positive}$$\n",
    "    + ***FPR***: Fall-out\n",
    "        $$FPR = Fall-Out = \\frac{FP}{FP + TN} = \\frac{FP}{Negative}$$\n",
    "\n",
    "* Para ***construir esta curva***:\n",
    "\n",
    "    1. Nuestro ***modelo de clasificación nos tiene que devolver una probabilidad o score de pertenencia a la clase positiva y debemos de ordenar esa probabilidad o score de mayor a menor valor*** (de manera decreciente).\n",
    "<br>\n",
    "\n",
    "    2. ***Al recorrer los elementos ordenados*** vemos:\n",
    "        + Si nos encontramos un elemento que ***pertenece a la clase positiva (TPR) nos movemos verticalmente hacia arriba***.\n",
    "        + Si nos encontremos un elemento que ***pertenece a la clase negativa (FPR) nos movemos hacia la derecha***.\n",
    "        \n",
    "* Por otro lado, en la curva ROC conecta siempre los puntos (0,0) y (1,1) con una recta, normalmente representada de manera punteada.\n",
    "\n",
    "\n",
    "## - ROC_AUC: Área bajo la curva ROC\n",
    "\n",
    "\n",
    "* El ***Área Bajo la Curva ROC (Area Under Curve), es el área que queda bajo la curva ROC*** y nos vale como una medida de precisión del clasificador.\n",
    "\n",
    "\n",
    "* Un modelo que clasifique todos los elementos perfectamente, tendrá un ROC_AUC de 1.\n",
    "\n",
    "\n",
    "* Cuando se representa la curva ROC se suele dibujar una curva diagonal (discontinua) que representa un clasificador cuyos elementos tienen todos la misma probabilidad o score y esta diagonal tiene un ROC_AUC de 0,5.\n",
    "\n",
    "\n",
    "* Cuanto más cercana este nuestra curva ROC de la diagonal, significará que nuestro modelo es menos preciso a la hora de clasificar y cuanto más 'alejado' este de la diagonal, más preciso será nuestro modelo.\n",
    "\n",
    "\n",
    "        \n",
    "## - Métricas en Sckit-Learn:\n",
    "\n",
    "* Scikit-Learn tiene implementados todos estos métodos de evaluación.\n",
    "\n",
    "\n",
    "* Como norma general se le pasa como parámetros un array con la clasificación verdadera y otro array con la predicción:\n",
    "\n",
    "    - **metrics.confusion_matrix(y_true, y_pred[, …])**: Compute confusion matrix to evaluate the accuracy of a classification\n",
    "    - **metrics.accuracy_score(y_true, y_pred[, …])**: Accuracy classification score\n",
    "    - **metrics.precision_score(y_true, y_pred[, …])**: Compute the precision\n",
    "    - **metrics.recall_score(y_true, y_pred[, …])**: Compute the recall\n",
    "    - **metrics.f1_score(y_true, y_pred[, labels, …])**: Compute the F1 score, also known as balanced F-score or F-measure\n",
    "    - **metrics.classification_report(y_true, y_pred)**: Build a text report showing the main classification metrics\n",
    "    - **metrics.roc_auc_score(y_true, y_score[, …])**: Compute Area Under the Receiver Operating Characteristic Curve (ROC AUC) from prediction scores.\n",
    "    - **metrics.roc_curve(y_true, y_score[, …])**: Compute Receiver operating characteristic (ROC)\n",
    "\n",
    "\n",
    "<hr>\n",
    "\n",
    "\n",
    "# Ejemplo: Clasificación Binaria\n",
    "\n",
    "\n",
    "* Supongamos que tenemos que clasificar 10 elementos de dos clases y la realizadad y la predicción vienen dados por:\n",
    "\n",
    "    - y_real =    [1, 1, 1, 1, 1, 0, 0, 0, 0, 0]\n",
    "    - y_predict = [1, 1, 0, 1, 1, 0, 0, 1, 1, 0]\n"
   ]
  },
  {
   "cell_type": "code",
   "execution_count": 1,
   "metadata": {},
   "outputs": [],
   "source": [
    "y_real =    [1, 1, 1, 1, 1, 0, 0, 0, 0, 0]\n",
    "y_predict = [1, 1, 0, 1, 1, 0, 0, 1, 1, 0]"
   ]
  },
  {
   "cell_type": "markdown",
   "metadata": {},
   "source": [
    "### - Matriz de confusión\n",
    "\n",
    "* En el ejemplo tenemos:\n",
    "\n",
    "    - 5 Elementos que son de la clase 0\n",
    "    - 5 Elementos que son de la clase 0\n",
    "    - True Positive (TP): De los que son de la clase 1, predigo 4 correctamente.\n",
    "    - False Negative (FN): De los que son de la clase 1, predigo 1 incorrectamente.\n",
    "    - True Negative (TN): De los que son de la clase 0, predigo 3 correctamente.\n",
    "    - False Positive (FP): De los que son de la clase 0, predigo 2 incorrectamente.\n",
    "    \n",
    "    \n",
    "\n",
    "* Podemos ver este resultado en la matriz de confusión:"
   ]
  },
  {
   "cell_type": "code",
   "execution_count": 2,
   "metadata": {},
   "outputs": [
    {
     "data": {
      "text/plain": [
       "array([[4, 1],\n",
       "       [2, 3]])"
      ]
     },
     "execution_count": 2,
     "metadata": {},
     "output_type": "execute_result"
    }
   ],
   "source": [
    "from sklearn.metrics import confusion_matrix\n",
    "\n",
    "confusion_matrix(y_true=y_real, y_pred=y_predict, labels=[1, 0])"
   ]
  },
  {
   "cell_type": "markdown",
   "metadata": {},
   "source": [
    "### - Accuracy\n",
    "\n",
    "* Basandonos en el ejemplo, calculamos el accuracy como:\n",
    "\n",
    "$$Acuracy = \\frac{TP + TN}{TP + FN + FP + TN} = \\frac{4 + 3}{4 + 1 + 2 + 3} = \\frac{7}{10} = 0.7$$"
   ]
  },
  {
   "cell_type": "code",
   "execution_count": 3,
   "metadata": {},
   "outputs": [
    {
     "data": {
      "text/plain": [
       "0.7"
      ]
     },
     "execution_count": 3,
     "metadata": {},
     "output_type": "execute_result"
    }
   ],
   "source": [
    "from sklearn.metrics import accuracy_score\n",
    "\n",
    "accuracy_score(y_true=y_real, y_pred=y_predict)"
   ]
  },
  {
   "cell_type": "markdown",
   "metadata": {},
   "source": [
    "### - Precision\n",
    "\n",
    "* Basandonos en el ejemplo, calculamos la precision como:\n",
    "\n",
    "$$Precision = \\frac{TP}{TP + FP} = \\frac{4}{4 + 2} = \\frac{4}{6} = 0.67$$"
   ]
  },
  {
   "cell_type": "code",
   "execution_count": 4,
   "metadata": {},
   "outputs": [
    {
     "data": {
      "text/plain": [
       "0.6666666666666666"
      ]
     },
     "execution_count": 4,
     "metadata": {},
     "output_type": "execute_result"
    }
   ],
   "source": [
    "from sklearn.metrics import precision_score\n",
    "\n",
    "precision_score(y_true=y_real, y_pred=y_predict)"
   ]
  },
  {
   "cell_type": "markdown",
   "metadata": {},
   "source": [
    "### - Recall\n",
    "\n",
    "* Basandonos en el ejemplo, calculamos el recall como:\n",
    "\n",
    "$$Recall = \\frac{TP}{TP + FN} = \\frac{4}{4 + 1} = \\frac{4}{5} = 0.8$$"
   ]
  },
  {
   "cell_type": "code",
   "execution_count": 5,
   "metadata": {},
   "outputs": [
    {
     "data": {
      "text/plain": [
       "0.8"
      ]
     },
     "execution_count": 5,
     "metadata": {},
     "output_type": "execute_result"
    }
   ],
   "source": [
    "from sklearn.metrics import recall_score\n",
    "\n",
    "recall_score(y_true=y_real, y_pred=y_predict)"
   ]
  },
  {
   "cell_type": "markdown",
   "metadata": {},
   "source": [
    "### - F1\n",
    "\n",
    "* Basandonos en el ejemplo, calculamos el F1 como:\n",
    "\n",
    "$$F1 = 2 \\cdot \\frac{Precision \\cdot Recall}{Precision + Recall} = 2 \\cdot \\frac{0.67 \\cdot 0.8}{0.67 + 0.8} = 2 \\cdot \\frac{0.54}{1.47} = 0.73$$"
   ]
  },
  {
   "cell_type": "code",
   "execution_count": 6,
   "metadata": {},
   "outputs": [
    {
     "data": {
      "text/plain": [
       "0.7272727272727272"
      ]
     },
     "execution_count": 6,
     "metadata": {},
     "output_type": "execute_result"
    }
   ],
   "source": [
    "from sklearn.metrics import f1_score\n",
    "\n",
    "f1_score(y_true=y_real, y_pred=y_predict)"
   ]
  },
  {
   "cell_type": "markdown",
   "metadata": {},
   "source": [
    "### - Curva ROC - Área bajo la curva"
   ]
  },
  {
   "cell_type": "code",
   "execution_count": 7,
   "metadata": {},
   "outputs": [
    {
     "data": {
      "image/png": "[encoded data removed]",
      "text/plain": [
       "<Figure size 432x288 with 1 Axes>"
      ]
     },
     "metadata": {
      "needs_background": "light"
     },
     "output_type": "display_data"
    }
   ],
   "source": [
    "from sklearn.datasets import make_classification\n",
    "from sklearn.linear_model import LogisticRegression\n",
    "from sklearn.metrics import roc_curve, roc_auc_score\n",
    "import matplotlib.pyplot as plt\n",
    "%matplotlib inline\n",
    "\n",
    "# Generamos un conjunto de datos de prueba con 2 clases\n",
    "X, y = make_classification(n_samples=1000, n_classes=2, random_state=1)\n",
    "\n",
    "# Creamos un Clasificador y calculamos las probabilidades de cada elemento\n",
    "clf = LogisticRegression(solver='lbfgs')\n",
    "clf.fit(X, y)\n",
    "X_probs = clf.predict_proba(X)\n",
    "\n",
    "# Clasificador base: Clasificador con probabilidad de todos los elementos a cero\n",
    "X_base_prob = [0 for i in range(len(y))]\n",
    "\n",
    "\n",
    "# Obtenemos Tasa de Verdaderos Positivos (TPR), Tasa de Falsos Positivos (FPR) y el umbral\n",
    "base_fpr, base_tpr, base_thresholds = roc_curve(y, X_base_prob)\n",
    "clf_fpr, clf_tpr, clf_thresholds = roc_curve(y, X_probs[:, 1])\n",
    "\n",
    "# Calculamos el Área bajo la curva\n",
    "base_auc = roc_auc_score(y, X_base_prob)\n",
    "clf_auc = roc_auc_score(y, X_probs[:, 1])\n",
    "\n",
    "# Pintamos la curva ROC\n",
    "plt.plot(clf_fpr, clf_tpr, label='Clasificador - ROC AUC = {:0.2f}'.format(clf_auc))\n",
    "plt.plot(base_fpr, base_tpr, linestyle='--', label='Clasificador Base - ROC AUC = {:0.2f}'.format(base_auc))\n",
    "plt.xlabel('False Positive Rate')\n",
    "plt.ylabel('True Positive Rate')\n",
    "plt.legend()\n",
    "plt.show()"
   ]
  },
  {
   "cell_type": "markdown",
   "metadata": {},
   "source": [
    "<hr>\n",
    "\n",
    "## - Heatmap - Matriz de Confusión\n",
    "\n",
    "* Para representar de una forma visual más agradable y legible la matriz de confusión, podemos usar el siguiente código que tiene la función \"plot_confusion_matrix()\""
   ]
  },
  {
   "cell_type": "code",
   "execution_count": 8,
   "metadata": {},
   "outputs": [
    {
     "data": {
      "image/png": "[encoded data removed]",
      "text/plain": [
       "<Figure size 432x288 with 2 Axes>"
      ]
     },
     "metadata": {
      "needs_background": "light"
     },
     "output_type": "display_data"
    }
   ],
   "source": [
    "import numpy as np\n",
    "import matplotlib.pyplot as plt\n",
    "import itertools\n",
    "%matplotlib inline\n",
    "\n",
    "def plot_confusion_matrix(cm, classes, title, cmap=plt.cm.Blues):\n",
    "    \"\"\"\n",
    "    This function prints and plots the confusion matrix.\n",
    "    \"\"\"\n",
    "    plt.imshow(cm, interpolation='nearest', cmap=cmap)\n",
    "    plt.title(title)\n",
    "    plt.colorbar()\n",
    "    tick_marks = np.arange(len(classes))\n",
    "    plt.xticks(tick_marks, classes, rotation=45)\n",
    "    plt.yticks(tick_marks, classes)\n",
    "\n",
    "    thresh = cm.max() / 2.\n",
    "    for i, j in itertools.product(range(cm.shape[0]), range(cm.shape[1])):\n",
    "        plt.text(j, i, format(cm[i, j], 'd'), horizontalalignment=\"center\",\n",
    "                 color=\"white\" if cm[i, j] > thresh else \"black\")\n",
    "\n",
    "    plt.tight_layout()\n",
    "    plt.ylabel('True label')\n",
    "    plt.xlabel('Predicted label')\n",
    "\n",
    "plt.figure()\n",
    "matriz_confusion = confusion_matrix(y_true=y_real, y_pred=y_predict, labels=[1, 0])\n",
    "plot_confusion_matrix(matriz_confusion, classes=['Clase 1', 'Clase 0'], title='Matriz de Confusión')\n",
    "plt.show()"
   ]
  },
  {
   "cell_type": "markdown",
   "metadata": {},
   "source": [
    "<hr>\n",
    "\n",
    "\n",
    "# Ejemplo: Clasificación Múltiple\n",
    "\n",
    "\n",
    "* Para el caso de la clasificación múltiple las métricas son las mismas, pero el procedimiento para calcularlo es diferente.\n",
    "\n",
    "\n",
    "* Todas estas métricas se calculan para cada clase, considerando una \"Clase A\" como la clase a clasificar correctamente y el resto de clases se consideran como una sola clase.\n",
    "\n",
    "\n",
    "* Veamos el siguiente ejemplo en el que tenemos:\n",
    "\n",
    "    - y_real =    [1, 1, 1, 1, 1, 0, 0, 0, 0, 0, 2, 2, 2, 2, 2]\n",
    "    - y_predict = [1, 1, 0, 1, 1, 0, 0, 1, 1, 0, 2, 1, 1, 0, 2]\n",
    "    \n",
    "    \n",
    "* Tendríamos que calcular las metricas para las clases 0, 1 y 2 considerando:\n",
    "<span></span><br><br>\n",
    "    - ***Clase 0***: Consideramos la Clase 0 como la que es y el resto de clases como una misma Clase X\n",
    "        + y_real =    [X, X, X, X, X, 0, 0, 0, 0, 0, X, X, X, X, X]\n",
    "        + y_predict = [X, X, 0, X, X, 0, 0, X, X, 0, X, X, X, 0, X]\n",
    "<span></span><br><br>        \n",
    "    - ***Clase 1***: Consideramos la Clase 1 como la que es y el resto de clases como una misma Clase X\n",
    "        + y_real =    [1, 1, 1, 1, 1, X, X, X, X, X, X, X, X, X, X]\n",
    "        + y_predict = [1, 1, X, 1, 1, X, X, 1, 1, X, X, 1, 1, X, X]\n",
    "<span></span><br><br>        \n",
    "    - ***Clase 2***: Consideramos la Clase 2 como la que es y el resto de clases como una misma Clase X\n",
    "        + y_real =    [X, X, X, X, X, X, X, X, X, X, 2, 2, 2, 2, 2]\n",
    "        + y_predict = [X, X, X, X, X, X, X, X, X, X, 2, X, X, X, 2]\n",
    "\n",
    "\n",
    "* Veamos a continuación un ejemplo, en el que usaremos la función \"classification_report()\" que nos devolverá las métricas vistas anteriormente por clase:"
   ]
  },
  {
   "cell_type": "code",
   "execution_count": 9,
   "metadata": {},
   "outputs": [
    {
     "name": "stdout",
     "output_type": "stream",
     "text": [
      "              precision    recall  f1-score   support\n",
      "\n",
      "           0       0.60      0.60      0.60         5\n",
      "           1       0.50      0.80      0.62         5\n",
      "           2       1.00      0.40      0.57         5\n",
      "\n",
      "    accuracy                           0.60        15\n",
      "   macro avg       0.70      0.60      0.60        15\n",
      "weighted avg       0.70      0.60      0.60        15\n",
      "\n"
     ]
    }
   ],
   "source": [
    "y_real =    [1, 1, 1, 1, 1, 0, 0, 0, 0, 0, 2, 2, 2, 2, 2]\n",
    "y_predict = [1, 1, 0, 1, 1, 0, 0, 1, 1, 0, 2, 1, 1, 0, 2]\n",
    "\n",
    "from sklearn.metrics import classification_report\n",
    "\n",
    "print(classification_report(y_true=y_real, y_pred=y_predict))"
   ]
  },
  {
   "cell_type": "markdown",
   "metadata": {},
   "source": [
    "* Veamos a continuación la matriz de confusión:"
   ]
  },
  {
   "cell_type": "code",
   "execution_count": 10,
   "metadata": {},
   "outputs": [
    {
     "data": {
      "image/png": "[encoded data removed]",
      "text/plain": [
       "<Figure size 432x288 with 2 Axes>"
      ]
     },
     "metadata": {
      "needs_background": "light"
     },
     "output_type": "display_data"
    }
   ],
   "source": [
    "plt.figure()\n",
    "matriz_confusion = confusion_matrix(y_true=y_real, y_pred=y_predict, labels=[0, 1, 2])\n",
    "plot_confusion_matrix(matriz_confusion, classes=['Clase 0', 'Clase 1', 'Clase 2'], title='Matriz de Confusión')\n",
    "plt.show()"
   ]
  },
  {
   "cell_type": "markdown",
   "metadata": {},
   "source": [
    "<hr>\n",
    "\n",
    "\n",
    "Este Notebook ha sido desarrollado por **Ricardo Moya García** y registrado en Safe Creative como ***Atribución-NoComercial-CompartirIgual***.\n",
    "\n",
    "\n",
    "<img src=\"../imgs/CC_BY-NC-SA.png\" alt=\"CC BY-NC\">"
   ]
  }
 ],
 "metadata": {
  "kernelspec": {
   "display_name": "Python 3",
   "language": "python",
   "name": "python3"
  },
  "language_info": {
   "codemirror_mode": {
    "name": "ipython",
    "version": 3
   },
   "file_extension": ".py",
   "mimetype": "text/x-python",
   "name": "python",
   "nbconvert_exporter": "python",
   "pygments_lexer": "ipython3",
   "version": "3.6.10"
  }
 },
 "nbformat": 4,
 "nbformat_minor": 2
}
